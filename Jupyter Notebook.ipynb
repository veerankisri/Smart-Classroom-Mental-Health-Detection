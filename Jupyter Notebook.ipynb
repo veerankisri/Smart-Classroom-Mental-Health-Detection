{
 "cells": [
  {
   "cell_type": "markdown",
   "id": "5389c6a6-773f-45cd-9f86-cd88637080e2",
   "metadata": {},
   "source": [
    "# Mental Health Detection Notebook"
   ]
  },
  {
   "cell_type": "code",
   "execution_count": 1,
   "id": "2cb62cef-8204-475e-b87c-c0f77157595d",
   "metadata": {},
   "outputs": [],
   "source": [
    "import zipfile\n",
    "import os\n",
    "import cv2\n",
    "import numpy as np\n",
    "from sklearn.model_selection import train_test_split\n",
    "from tensorflow.keras.utils import to_categorical\n",
    "from tensorflow.keras.models import Sequential, load_model\n",
    "from tensorflow.keras.layers import Conv2D, MaxPooling2D, Flatten, Dense, Dropout\n",
    "import matplotlib.pyplot as plt\n",
    "import time\n",
    "import uuid"
   ]
  },
  {
   "cell_type": "markdown",
   "id": "e3643380-66f7-4269-b81e-3cffae212cd0",
   "metadata": {},
   "source": [
    "####  1. Train Model "
   ]
  },
  {
   "cell_type": "code",
   "execution_count": 2,
   "id": "74c14734-637c-433c-8b4d-c954b538b452",
   "metadata": {},
   "outputs": [
    {
     "name": "stdout",
     "output_type": "stream",
     "text": [
      "Dataset extracted.\n"
     ]
    }
   ],
   "source": [
    "# Step 1: Extract Dataset\n",
    "zip_path = 'CK+48-20250625T074555Z-1-001.zip'\n",
    "extract_dir = 'CK+48'\n",
    "\n",
    "with zipfile.ZipFile(zip_path, 'r') as zip_ref:\n",
    "    zip_ref.extractall(extract_dir)\n",
    "\n",
    "print(\"Dataset extracted.\")\n"
   ]
  },
  {
   "cell_type": "code",
   "execution_count": 3,
   "id": "3b8964d7-b2a2-43d1-8f72-7fbf157d882d",
   "metadata": {},
   "outputs": [
    {
     "name": "stdout",
     "output_type": "stream",
     "text": [
      "Categories: ['anger', 'contempt', 'disgust', 'fear', 'happy', 'sadness', 'surprise']\n",
      "Data shape: (784, 48, 48, 1), Labels shape: (784, 7)\n"
     ]
    }
   ],
   "source": [
    "# Step 2: Data Preprocessing\n",
    "data_dir = 'CK+48/CK+48'\n",
    "categories = [cat for cat in os.listdir(data_dir) if cat.lower() != 'ck+48']\n",
    "print(\"Categories:\", categories)\n",
    "\n",
    "img_size = 48\n",
    "data = []\n",
    "labels = []\n",
    "\n",
    "for category in categories:\n",
    "    path = os.path.join(data_dir, category)\n",
    "    label = categories.index(category)\n",
    "    for img_name in os.listdir(path):\n",
    "        img_path = os.path.join(path, img_name)\n",
    "        try:\n",
    "            img = cv2.imread(img_path, cv2.IMREAD_GRAYSCALE)\n",
    "            img = cv2.resize(img, (img_size, img_size))\n",
    "            data.append(img)\n",
    "            labels.append(label)\n",
    "        except:\n",
    "            pass\n",
    "\n",
    "data = np.array(data).reshape(-1, img_size, img_size, 1) / 255.0\n",
    "labels = to_categorical(labels)\n",
    "\n",
    "X_train, X_test, y_train, y_test = train_test_split(data, labels, test_size=0.2, random_state=42)\n",
    "print(f\"Data shape: {X_train.shape}, Labels shape: {y_train.shape}\")\n"
   ]
  },
  {
   "cell_type": "code",
   "execution_count": 4,
   "id": "0317be95-fc69-42c4-973d-9870eef4c992",
   "metadata": {},
   "outputs": [
    {
     "name": "stderr",
     "output_type": "stream",
     "text": [
      "C:\\Users\\HP\\AppData\\Roaming\\Python\\Python312\\site-packages\\keras\\src\\layers\\convolutional\\base_conv.py:113: UserWarning: Do not pass an `input_shape`/`input_dim` argument to a layer. When using Sequential models, prefer using an `Input(shape)` object as the first layer in the model instead.\n",
      "  super().__init__(activity_regularizer=activity_regularizer, **kwargs)\n"
     ]
    },
    {
     "data": {
      "text/html": [
       "<pre style=\"white-space:pre;overflow-x:auto;line-height:normal;font-family:Menlo,'DejaVu Sans Mono',consolas,'Courier New',monospace\"><span style=\"font-weight: bold\">Model: \"sequential\"</span>\n",
       "</pre>\n"
      ],
      "text/plain": [
       "\u001b[1mModel: \"sequential\"\u001b[0m\n"
      ]
     },
     "metadata": {},
     "output_type": "display_data"
    },
    {
     "data": {
      "text/html": [
       "<pre style=\"white-space:pre;overflow-x:auto;line-height:normal;font-family:Menlo,'DejaVu Sans Mono',consolas,'Courier New',monospace\">┏━━━━━━━━━━━━━━━━━━━━━━━━━━━━━━━━━━━━━━┳━━━━━━━━━━━━━━━━━━━━━━━━━━━━━┳━━━━━━━━━━━━━━━━━┓\n",
       "┃<span style=\"font-weight: bold\"> Layer (type)                         </span>┃<span style=\"font-weight: bold\"> Output Shape                </span>┃<span style=\"font-weight: bold\">         Param # </span>┃\n",
       "┡━━━━━━━━━━━━━━━━━━━━━━━━━━━━━━━━━━━━━━╇━━━━━━━━━━━━━━━━━━━━━━━━━━━━━╇━━━━━━━━━━━━━━━━━┩\n",
       "│ conv2d (<span style=\"color: #0087ff; text-decoration-color: #0087ff\">Conv2D</span>)                      │ (<span style=\"color: #00d7ff; text-decoration-color: #00d7ff\">None</span>, <span style=\"color: #00af00; text-decoration-color: #00af00\">46</span>, <span style=\"color: #00af00; text-decoration-color: #00af00\">46</span>, <span style=\"color: #00af00; text-decoration-color: #00af00\">32</span>)          │             <span style=\"color: #00af00; text-decoration-color: #00af00\">320</span> │\n",
       "├──────────────────────────────────────┼─────────────────────────────┼─────────────────┤\n",
       "│ max_pooling2d (<span style=\"color: #0087ff; text-decoration-color: #0087ff\">MaxPooling2D</span>)         │ (<span style=\"color: #00d7ff; text-decoration-color: #00d7ff\">None</span>, <span style=\"color: #00af00; text-decoration-color: #00af00\">23</span>, <span style=\"color: #00af00; text-decoration-color: #00af00\">23</span>, <span style=\"color: #00af00; text-decoration-color: #00af00\">32</span>)          │               <span style=\"color: #00af00; text-decoration-color: #00af00\">0</span> │\n",
       "├──────────────────────────────────────┼─────────────────────────────┼─────────────────┤\n",
       "│ conv2d_1 (<span style=\"color: #0087ff; text-decoration-color: #0087ff\">Conv2D</span>)                    │ (<span style=\"color: #00d7ff; text-decoration-color: #00d7ff\">None</span>, <span style=\"color: #00af00; text-decoration-color: #00af00\">21</span>, <span style=\"color: #00af00; text-decoration-color: #00af00\">21</span>, <span style=\"color: #00af00; text-decoration-color: #00af00\">64</span>)          │          <span style=\"color: #00af00; text-decoration-color: #00af00\">18,496</span> │\n",
       "├──────────────────────────────────────┼─────────────────────────────┼─────────────────┤\n",
       "│ max_pooling2d_1 (<span style=\"color: #0087ff; text-decoration-color: #0087ff\">MaxPooling2D</span>)       │ (<span style=\"color: #00d7ff; text-decoration-color: #00d7ff\">None</span>, <span style=\"color: #00af00; text-decoration-color: #00af00\">10</span>, <span style=\"color: #00af00; text-decoration-color: #00af00\">10</span>, <span style=\"color: #00af00; text-decoration-color: #00af00\">64</span>)          │               <span style=\"color: #00af00; text-decoration-color: #00af00\">0</span> │\n",
       "├──────────────────────────────────────┼─────────────────────────────┼─────────────────┤\n",
       "│ flatten (<span style=\"color: #0087ff; text-decoration-color: #0087ff\">Flatten</span>)                    │ (<span style=\"color: #00d7ff; text-decoration-color: #00d7ff\">None</span>, <span style=\"color: #00af00; text-decoration-color: #00af00\">6400</span>)                │               <span style=\"color: #00af00; text-decoration-color: #00af00\">0</span> │\n",
       "├──────────────────────────────────────┼─────────────────────────────┼─────────────────┤\n",
       "│ dense (<span style=\"color: #0087ff; text-decoration-color: #0087ff\">Dense</span>)                        │ (<span style=\"color: #00d7ff; text-decoration-color: #00d7ff\">None</span>, <span style=\"color: #00af00; text-decoration-color: #00af00\">128</span>)                 │         <span style=\"color: #00af00; text-decoration-color: #00af00\">819,328</span> │\n",
       "├──────────────────────────────────────┼─────────────────────────────┼─────────────────┤\n",
       "│ dropout (<span style=\"color: #0087ff; text-decoration-color: #0087ff\">Dropout</span>)                    │ (<span style=\"color: #00d7ff; text-decoration-color: #00d7ff\">None</span>, <span style=\"color: #00af00; text-decoration-color: #00af00\">128</span>)                 │               <span style=\"color: #00af00; text-decoration-color: #00af00\">0</span> │\n",
       "├──────────────────────────────────────┼─────────────────────────────┼─────────────────┤\n",
       "│ dense_1 (<span style=\"color: #0087ff; text-decoration-color: #0087ff\">Dense</span>)                      │ (<span style=\"color: #00d7ff; text-decoration-color: #00d7ff\">None</span>, <span style=\"color: #00af00; text-decoration-color: #00af00\">7</span>)                   │             <span style=\"color: #00af00; text-decoration-color: #00af00\">903</span> │\n",
       "└──────────────────────────────────────┴─────────────────────────────┴─────────────────┘\n",
       "</pre>\n"
      ],
      "text/plain": [
       "┏━━━━━━━━━━━━━━━━━━━━━━━━━━━━━━━━━━━━━━┳━━━━━━━━━━━━━━━━━━━━━━━━━━━━━┳━━━━━━━━━━━━━━━━━┓\n",
       "┃\u001b[1m \u001b[0m\u001b[1mLayer (type)                        \u001b[0m\u001b[1m \u001b[0m┃\u001b[1m \u001b[0m\u001b[1mOutput Shape               \u001b[0m\u001b[1m \u001b[0m┃\u001b[1m \u001b[0m\u001b[1m        Param #\u001b[0m\u001b[1m \u001b[0m┃\n",
       "┡━━━━━━━━━━━━━━━━━━━━━━━━━━━━━━━━━━━━━━╇━━━━━━━━━━━━━━━━━━━━━━━━━━━━━╇━━━━━━━━━━━━━━━━━┩\n",
       "│ conv2d (\u001b[38;5;33mConv2D\u001b[0m)                      │ (\u001b[38;5;45mNone\u001b[0m, \u001b[38;5;34m46\u001b[0m, \u001b[38;5;34m46\u001b[0m, \u001b[38;5;34m32\u001b[0m)          │             \u001b[38;5;34m320\u001b[0m │\n",
       "├──────────────────────────────────────┼─────────────────────────────┼─────────────────┤\n",
       "│ max_pooling2d (\u001b[38;5;33mMaxPooling2D\u001b[0m)         │ (\u001b[38;5;45mNone\u001b[0m, \u001b[38;5;34m23\u001b[0m, \u001b[38;5;34m23\u001b[0m, \u001b[38;5;34m32\u001b[0m)          │               \u001b[38;5;34m0\u001b[0m │\n",
       "├──────────────────────────────────────┼─────────────────────────────┼─────────────────┤\n",
       "│ conv2d_1 (\u001b[38;5;33mConv2D\u001b[0m)                    │ (\u001b[38;5;45mNone\u001b[0m, \u001b[38;5;34m21\u001b[0m, \u001b[38;5;34m21\u001b[0m, \u001b[38;5;34m64\u001b[0m)          │          \u001b[38;5;34m18,496\u001b[0m │\n",
       "├──────────────────────────────────────┼─────────────────────────────┼─────────────────┤\n",
       "│ max_pooling2d_1 (\u001b[38;5;33mMaxPooling2D\u001b[0m)       │ (\u001b[38;5;45mNone\u001b[0m, \u001b[38;5;34m10\u001b[0m, \u001b[38;5;34m10\u001b[0m, \u001b[38;5;34m64\u001b[0m)          │               \u001b[38;5;34m0\u001b[0m │\n",
       "├──────────────────────────────────────┼─────────────────────────────┼─────────────────┤\n",
       "│ flatten (\u001b[38;5;33mFlatten\u001b[0m)                    │ (\u001b[38;5;45mNone\u001b[0m, \u001b[38;5;34m6400\u001b[0m)                │               \u001b[38;5;34m0\u001b[0m │\n",
       "├──────────────────────────────────────┼─────────────────────────────┼─────────────────┤\n",
       "│ dense (\u001b[38;5;33mDense\u001b[0m)                        │ (\u001b[38;5;45mNone\u001b[0m, \u001b[38;5;34m128\u001b[0m)                 │         \u001b[38;5;34m819,328\u001b[0m │\n",
       "├──────────────────────────────────────┼─────────────────────────────┼─────────────────┤\n",
       "│ dropout (\u001b[38;5;33mDropout\u001b[0m)                    │ (\u001b[38;5;45mNone\u001b[0m, \u001b[38;5;34m128\u001b[0m)                 │               \u001b[38;5;34m0\u001b[0m │\n",
       "├──────────────────────────────────────┼─────────────────────────────┼─────────────────┤\n",
       "│ dense_1 (\u001b[38;5;33mDense\u001b[0m)                      │ (\u001b[38;5;45mNone\u001b[0m, \u001b[38;5;34m7\u001b[0m)                   │             \u001b[38;5;34m903\u001b[0m │\n",
       "└──────────────────────────────────────┴─────────────────────────────┴─────────────────┘\n"
      ]
     },
     "metadata": {},
     "output_type": "display_data"
    },
    {
     "data": {
      "text/html": [
       "<pre style=\"white-space:pre;overflow-x:auto;line-height:normal;font-family:Menlo,'DejaVu Sans Mono',consolas,'Courier New',monospace\"><span style=\"font-weight: bold\"> Total params: </span><span style=\"color: #00af00; text-decoration-color: #00af00\">839,047</span> (3.20 MB)\n",
       "</pre>\n"
      ],
      "text/plain": [
       "\u001b[1m Total params: \u001b[0m\u001b[38;5;34m839,047\u001b[0m (3.20 MB)\n"
      ]
     },
     "metadata": {},
     "output_type": "display_data"
    },
    {
     "data": {
      "text/html": [
       "<pre style=\"white-space:pre;overflow-x:auto;line-height:normal;font-family:Menlo,'DejaVu Sans Mono',consolas,'Courier New',monospace\"><span style=\"font-weight: bold\"> Trainable params: </span><span style=\"color: #00af00; text-decoration-color: #00af00\">839,047</span> (3.20 MB)\n",
       "</pre>\n"
      ],
      "text/plain": [
       "\u001b[1m Trainable params: \u001b[0m\u001b[38;5;34m839,047\u001b[0m (3.20 MB)\n"
      ]
     },
     "metadata": {},
     "output_type": "display_data"
    },
    {
     "data": {
      "text/html": [
       "<pre style=\"white-space:pre;overflow-x:auto;line-height:normal;font-family:Menlo,'DejaVu Sans Mono',consolas,'Courier New',monospace\"><span style=\"font-weight: bold\"> Non-trainable params: </span><span style=\"color: #00af00; text-decoration-color: #00af00\">0</span> (0.00 B)\n",
       "</pre>\n"
      ],
      "text/plain": [
       "\u001b[1m Non-trainable params: \u001b[0m\u001b[38;5;34m0\u001b[0m (0.00 B)\n"
      ]
     },
     "metadata": {},
     "output_type": "display_data"
    }
   ],
   "source": [
    "# Step 3: CNN Model\n",
    "model = Sequential([\n",
    "    Conv2D(32, (3,3), activation='relu', input_shape=(img_size, img_size, 1)),\n",
    "    MaxPooling2D(2,2),\n",
    "    Conv2D(64, (3,3), activation='relu'),\n",
    "    MaxPooling2D(2,2),\n",
    "    Flatten(),\n",
    "    Dense(128, activation='relu'),\n",
    "    Dropout(0.5),\n",
    "    Dense(len(categories), activation='softmax')\n",
    "])\n",
    "\n",
    "model.compile(optimizer='adam', loss='categorical_crossentropy', metrics=['accuracy'])\n",
    "model.summary()"
   ]
  },
  {
   "cell_type": "code",
   "execution_count": 5,
   "id": "8ff3d6fb-f315-4c66-855d-2163c0720496",
   "metadata": {},
   "outputs": [
    {
     "name": "stdout",
     "output_type": "stream",
     "text": [
      "Epoch 1/15\n",
      "\u001b[1m25/25\u001b[0m \u001b[32m━━━━━━━━━━━━━━━━━━━━\u001b[0m\u001b[37m\u001b[0m \u001b[1m6s\u001b[0m 108ms/step - accuracy: 0.2191 - loss: 1.8633 - val_accuracy: 0.4264 - val_loss: 1.6827\n",
      "Epoch 2/15\n",
      "\u001b[1m25/25\u001b[0m \u001b[32m━━━━━━━━━━━━━━━━━━━━\u001b[0m\u001b[37m\u001b[0m \u001b[1m2s\u001b[0m 84ms/step - accuracy: 0.4442 - loss: 1.5939 - val_accuracy: 0.5330 - val_loss: 1.2770\n",
      "Epoch 3/15\n",
      "\u001b[1m25/25\u001b[0m \u001b[32m━━━━━━━━━━━━━━━━━━━━\u001b[0m\u001b[37m\u001b[0m \u001b[1m2s\u001b[0m 87ms/step - accuracy: 0.6169 - loss: 1.2299 - val_accuracy: 0.6650 - val_loss: 0.9411\n",
      "Epoch 4/15\n",
      "\u001b[1m25/25\u001b[0m \u001b[32m━━━━━━━━━━━━━━━━━━━━\u001b[0m\u001b[37m\u001b[0m \u001b[1m3s\u001b[0m 100ms/step - accuracy: 0.7124 - loss: 0.8697 - val_accuracy: 0.7614 - val_loss: 0.6785\n",
      "Epoch 5/15\n",
      "\u001b[1m25/25\u001b[0m \u001b[32m━━━━━━━━━━━━━━━━━━━━\u001b[0m\u001b[37m\u001b[0m \u001b[1m2s\u001b[0m 76ms/step - accuracy: 0.7864 - loss: 0.6630 - val_accuracy: 0.8731 - val_loss: 0.4841\n",
      "Epoch 6/15\n",
      "\u001b[1m25/25\u001b[0m \u001b[32m━━━━━━━━━━━━━━━━━━━━\u001b[0m\u001b[37m\u001b[0m \u001b[1m2s\u001b[0m 90ms/step - accuracy: 0.8043 - loss: 0.5121 - val_accuracy: 0.8782 - val_loss: 0.4070\n",
      "Epoch 7/15\n",
      "\u001b[1m25/25\u001b[0m \u001b[32m━━━━━━━━━━━━━━━━━━━━\u001b[0m\u001b[37m\u001b[0m \u001b[1m3s\u001b[0m 91ms/step - accuracy: 0.8587 - loss: 0.4281 - val_accuracy: 0.9086 - val_loss: 0.3452\n",
      "Epoch 8/15\n",
      "\u001b[1m25/25\u001b[0m \u001b[32m━━━━━━━━━━━━━━━━━━━━\u001b[0m\u001b[37m\u001b[0m \u001b[1m1s\u001b[0m 34ms/step - accuracy: 0.8768 - loss: 0.3432 - val_accuracy: 0.9188 - val_loss: 0.2616\n",
      "Epoch 9/15\n",
      "\u001b[1m25/25\u001b[0m \u001b[32m━━━━━━━━━━━━━━━━━━━━\u001b[0m\u001b[37m\u001b[0m \u001b[1m2s\u001b[0m 75ms/step - accuracy: 0.9090 - loss: 0.2885 - val_accuracy: 0.9340 - val_loss: 0.2106\n",
      "Epoch 10/15\n",
      "\u001b[1m25/25\u001b[0m \u001b[32m━━━━━━━━━━━━━━━━━━━━\u001b[0m\u001b[37m\u001b[0m \u001b[1m2s\u001b[0m 33ms/step - accuracy: 0.8863 - loss: 0.3088 - val_accuracy: 0.9543 - val_loss: 0.1888\n",
      "Epoch 11/15\n",
      "\u001b[1m25/25\u001b[0m \u001b[32m━━━━━━━━━━━━━━━━━━━━\u001b[0m\u001b[37m\u001b[0m \u001b[1m1s\u001b[0m 57ms/step - accuracy: 0.9018 - loss: 0.2405 - val_accuracy: 0.9543 - val_loss: 0.1627\n",
      "Epoch 12/15\n",
      "\u001b[1m25/25\u001b[0m \u001b[32m━━━━━━━━━━━━━━━━━━━━\u001b[0m\u001b[37m\u001b[0m \u001b[1m3s\u001b[0m 102ms/step - accuracy: 0.9274 - loss: 0.2231 - val_accuracy: 0.9543 - val_loss: 0.1428\n",
      "Epoch 13/15\n",
      "\u001b[1m25/25\u001b[0m \u001b[32m━━━━━━━━━━━━━━━━━━━━\u001b[0m\u001b[37m\u001b[0m \u001b[1m2s\u001b[0m 84ms/step - accuracy: 0.9461 - loss: 0.1918 - val_accuracy: 0.9442 - val_loss: 0.1632\n",
      "Epoch 14/15\n",
      "\u001b[1m25/25\u001b[0m \u001b[32m━━━━━━━━━━━━━━━━━━━━\u001b[0m\u001b[37m\u001b[0m \u001b[1m2s\u001b[0m 89ms/step - accuracy: 0.9307 - loss: 0.2022 - val_accuracy: 0.9645 - val_loss: 0.1163\n",
      "Epoch 15/15\n",
      "\u001b[1m25/25\u001b[0m \u001b[32m━━━━━━━━━━━━━━━━━━━━\u001b[0m\u001b[37m\u001b[0m \u001b[1m3s\u001b[0m 78ms/step - accuracy: 0.9464 - loss: 0.1769 - val_accuracy: 0.9645 - val_loss: 0.1032\n"
     ]
    }
   ],
   "source": [
    "# Step 4: Train\n",
    "history = model.fit(X_train, y_train, epochs=15, validation_data=(X_test, y_test))"
   ]
  },
  {
   "cell_type": "markdown",
   "id": "eb8561e6-5dca-449b-9e9d-1217eddc4c58",
   "metadata": {},
   "source": [
    "#### 2. Save Model and History "
   ]
  },
  {
   "cell_type": "code",
   "execution_count": 6,
   "id": "35a94963-74a4-409f-abed-d819f9023d62",
   "metadata": {},
   "outputs": [
    {
     "name": "stderr",
     "output_type": "stream",
     "text": [
      "WARNING:absl:You are saving your model as an HDF5 file via `model.save()` or `keras.saving.save_model(model)`. This file format is considered legacy. We recommend using instead the native Keras format, e.g. `model.save('my_model.keras')` or `keras.saving.save_model(model, 'my_model.keras')`. \n"
     ]
    },
    {
     "name": "stdout",
     "output_type": "stream",
     "text": [
      "Model saved.\n",
      "Training history saved.\n"
     ]
    }
   ],
   "source": [
    "model.save('mental_health_expression_model.h5')\n",
    "print(\"Model saved.\")\n",
    "\n",
    "# Save training history as numpy arrays\n",
    "np.save('history_accuracy.npy', np.array(history.history['accuracy']))\n",
    "np.save('history_val_accuracy.npy', np.array(history.history['val_accuracy']))\n",
    "print(\"Training history saved.\")\n"
   ]
  },
  {
   "cell_type": "markdown",
   "id": "10ae82ca-fffb-40e9-88aa-22b7171ec5cc",
   "metadata": {},
   "source": [
    "#### 3. Import Model and History "
   ]
  },
  {
   "cell_type": "code",
   "execution_count": 7,
   "id": "b4d84504-68ec-4e20-824e-880e3530fe21",
   "metadata": {},
   "outputs": [
    {
     "name": "stderr",
     "output_type": "stream",
     "text": [
      "WARNING:absl:Compiled the loaded model, but the compiled metrics have yet to be built. `model.compile_metrics` will be empty until you train or evaluate the model.\n"
     ]
    },
    {
     "name": "stdout",
     "output_type": "stream",
     "text": [
      "Model loaded.\n"
     ]
    }
   ],
   "source": [
    "# Load saved model\n",
    "model = load_model('mental_health_expression_model.h5')\n",
    "print(\"Model loaded.\")"
   ]
  },
  {
   "cell_type": "code",
   "execution_count": 8,
   "id": "db6f1625-f0f2-4f24-b4ab-25f0af289ee2",
   "metadata": {},
   "outputs": [],
   "source": [
    "# Load history\n",
    "acc = np.load('history_accuracy.npy')\n",
    "val_acc = np.load('history_val_accuracy.npy')"
   ]
  },
  {
   "cell_type": "code",
   "execution_count": 9,
   "id": "495f0729-5a05-452b-934d-bf858350f423",
   "metadata": {},
   "outputs": [
    {
     "data": {
      "image/png": "[encoded data removed]",
      "text/plain": [
       "<Figure size 640x480 with 1 Axes>"
      ]
     },
     "metadata": {},
     "output_type": "display_data"
    }
   ],
   "source": [
    "\n",
    "# Plot accuracy graph\n",
    "plt.plot(acc, label='Training Accuracy')\n",
    "plt.plot(val_acc, label='Validation Accuracy')\n",
    "plt.title('Model Accuracy')\n",
    "plt.xlabel('Epochs')\n",
    "plt.ylabel('Accuracy')\n",
    "plt.legend()\n",
    "plt.show()\n"
   ]
  },
  {
   "cell_type": "markdown",
   "id": "cf8273b0-3c06-4b47-94ae-760057419242",
   "metadata": {},
   "source": [
    "#### 4. Test (Real-time Video Analysis) "
   ]
  },
  {
   "cell_type": "code",
   "execution_count": 10,
   "id": "652e395b-96e4-4998-8e61-12a9fbb024f8",
   "metadata": {},
   "outputs": [],
   "source": [
    "# Step 4: Expression Prediction Function\n",
    "def predict_expression(face_img):\n",
    "    face_img = cv2.cvtColor(face_img, cv2.COLOR_BGR2GRAY)\n",
    "    face_img = cv2.resize(face_img, (img_size, img_size))\n",
    "    face_img = face_img.reshape(1, img_size, img_size, 1) / 255.0\n",
    "    pred = model.predict(face_img, verbose=0)\n",
    "    return categories[np.argmax(pred)]"
   ]
  },
  {
   "cell_type": "code",
   "execution_count": 11,
   "id": "419c732a-c837-4017-acdf-932d825f1e56",
   "metadata": {},
   "outputs": [],
   "source": [
    "# Step 5: Real-Time Video Analysis with Face Tracking\n",
    "face_cascade = cv2.CascadeClassifier(cv2.data.haarcascades + 'haarcascade_frontalface_default.xml')\n",
    "\n",
    "emotion_to_risk = {\n",
    "    'angry': 'High Stress',\n",
    "    'sad': 'Depression Risk',\n",
    "    'happy': 'Low Risk',\n",
    "    'surprise': 'Neutral',\n",
    "    'fear': 'Anxiety Risk',\n",
    "    'disgust': 'Stress Risk'\n",
    "}\n",
    "\n",
    "students = {}\n",
    "risk_counts = {'High Stress': 0, 'Depression Risk': 0, 'Anxiety Risk': 0, 'Stress Risk': 0, 'Low Risk': 0, 'Neutral': 0, 'Unknown': 0}\n",
    "next_student_id = 1\n",
    "\n",
    "cap = cv2.VideoCapture(0)\n",
    "start_time = time.time()\n",
    "capture_duration = 30\n",
    "\n",
    "while int(time.time() - start_time) < capture_duration:\n",
    "    ret, frame = cap.read()\n",
    "    if not ret:\n",
    "        break\n",
    "\n",
    "    gray = cv2.cvtColor(frame, cv2.COLOR_BGR2GRAY)\n",
    "    faces = face_cascade.detectMultiScale(gray, 1.3, 5)\n",
    "\n",
    "    for (x, y, w, h) in faces:\n",
    "        face_center = (x + w//2, y + h//2)\n",
    "\n",
    "        matched_id = None\n",
    "        for student_id, info in students.items():\n",
    "            sx, sy, sw, sh = info['bbox']\n",
    "            sx_center = sx + sw//2\n",
    "            sy_center = sy + sh//2\n",
    "\n",
    "            if abs(face_center[0] - sx_center) < 50 and abs(face_center[1] - sy_center) < 50:\n",
    "                matched_id = student_id\n",
    "                break\n",
    "\n",
    "        if matched_id is None:\n",
    "            matched_id = f\"S{next_student_id}\"\n",
    "            next_student_id += 1\n",
    "            students[matched_id] = {\n",
    "                'bbox': (x, y, w, h),\n",
    "                'emotion_counts': {e: 0 for e in categories},\n",
    "                'risk_counts': {r: 0 for r in risk_counts.keys()},\n",
    "                'total_frames': 0\n",
    "            }\n",
    "\n",
    "        students[matched_id]['bbox'] = (x, y, w, h)\n",
    "\n",
    "        face_img = frame[y:y+h, x:x+w]\n",
    "        emotion = predict_expression(face_img)\n",
    "        risk = emotion_to_risk.get(emotion, 'Unknown')\n",
    "\n",
    "        students[matched_id]['emotion_counts'][emotion] += 1\n",
    "        students[matched_id]['risk_counts'][risk] += 1\n",
    "        students[matched_id]['total_frames'] += 1\n",
    "\n",
    "        risk_counts[risk] += 1\n",
    "\n",
    "        color = (0, 255, 0) if risk == 'Low Risk' else (0, 0, 255)\n",
    "        cv2.rectangle(frame, (x, y), (x+w, y+h), color, 2)\n",
    "        cv2.putText(frame, f'{emotion} | {risk} | {matched_id}', (x, y-10),\n",
    "                    cv2.FONT_HERSHEY_SIMPLEX, 0.6, color, 2)\n",
    "\n",
    "    cv2.imshow('Mental Health Detection', frame)\n",
    "\n",
    "    if cv2.waitKey(1) & 0xFF == ord('q'):\n",
    "        break\n",
    "\n",
    "cap.release()\n",
    "cv2.destroyAllWindows()\n"
   ]
  },
  {
   "cell_type": "code",
   "execution_count": 12,
   "id": "d1975b8a-0969-4920-b438-f91326aa2864",
   "metadata": {},
   "outputs": [
    {
     "data": {
      "image/png": "[encoded data removed]",
      "text/plain": [
       "<Figure size 800x500 with 1 Axes>"
      ]
     },
     "metadata": {},
     "output_type": "display_data"
    }
   ],
   "source": [
    "# Step 6: Bar Graph for Overall Risk Distribution\n",
    "plt.figure(figsize=(8, 5))\n",
    "plt.bar(risk_counts.keys(), risk_counts.values(), color='skyblue')\n",
    "plt.title('Overall Mental Health Risk Distribution (Bar Graph)')\n",
    "plt.ylabel('Count')\n",
    "plt.xticks(rotation=45)\n",
    "plt.show()"
   ]
  },
  {
   "cell_type": "code",
   "execution_count": 13,
   "id": "10b0b189-3ab4-47aa-8e13-a7ab5ca39d4e",
   "metadata": {},
   "outputs": [
    {
     "name": "stdout",
     "output_type": "stream",
     "text": [
      "Reports, Pie Charts, and Stability saved in student_reports\n"
     ]
    }
   ],
   "source": [
    "# Step 7: Generate Individual Student Reports, Pie Charts, and Stability per Student\n",
    "report_dir = 'student_reports'\n",
    "os.makedirs(report_dir, exist_ok=True)\n",
    "\n",
    "for student_id, stats in students.items():\n",
    "    total_frames = stats['total_frames']\n",
    "    low_risk = stats['risk_counts'].get('Low Risk', 0)\n",
    "    if total_frames == 0:\n",
    "        stability = 'Unknown'\n",
    "    elif low_risk / total_frames > 0.7:\n",
    "        stability = 'Stable'\n",
    "    elif low_risk / total_frames > 0.4:\n",
    "        stability = 'Moderate'\n",
    "    else:\n",
    "        stability = 'Unstable'\n",
    "\n",
    "    report_path = os.path.join(report_dir, f'{student_id}_report.txt')\n",
    "    with open(report_path, 'w') as f:\n",
    "        f.write(f'Student ID: {student_id}\\n')\n",
    "        f.write(f'Total Frames Detected: {total_frames}\\n')\n",
    "        f.write(f'Stability: {stability}\\n\\n')\n",
    "\n",
    "        f.write('Emotion Counts:\\n')\n",
    "        for emotion, count in stats['emotion_counts'].items():\n",
    "            f.write(f'{emotion}: {count}\\n')\n",
    "\n",
    "        f.write('\\nMental Health Risk Counts:\\n')\n",
    "        for risk, count in stats['risk_counts'].items():\n",
    "            f.write(f'{risk}: {count}\\n')\n",
    "\n",
    "    # Pie Chart for student\n",
    "    plt.figure(figsize=(5, 5))\n",
    "    plt.pie(stats['risk_counts'].values(), labels=stats['risk_counts'].keys(), autopct='%1.1f%%', startangle=140)\n",
    "    plt.title(f'Mental Health Risk - {student_id} ({stability})')\n",
    "    plt.savefig(os.path.join(report_dir, f'{student_id}_risk_piechart.png'))\n",
    "    plt.close()\n",
    "\n",
    "print(f\"Reports, Pie Charts, and Stability saved in {report_dir}\")"
   ]
  },
  {
   "cell_type": "code",
   "execution_count": 14,
   "id": "eac48a3c-edce-4bc2-86f5-fb779e4330cd",
   "metadata": {},
   "outputs": [
    {
     "name": "stdout",
     "output_type": "stream",
     "text": [
      "Overall Classroom Stability: Unstable\n"
     ]
    }
   ],
   "source": [
    "# Step 8: Overall Classroom Stability Estimate\n",
    "low_risk = risk_counts.get('Low Risk', 0)\n",
    "total_faces = sum(risk_counts.values())\n",
    "if total_faces == 0:\n",
    "    stability = 'Unknown'\n",
    "elif low_risk / total_faces > 0.7:\n",
    "    stability = 'Stable'\n",
    "elif low_risk / total_faces > 0.4:\n",
    "    stability = 'Moderate'\n",
    "else:\n",
    "    stability = 'Unstable'\n",
    "\n",
    "print(f\"Overall Classroom Stability: {stability}\")"
   ]
  },
  {
   "cell_type": "code",
   "execution_count": null,
   "id": "d4a81ea9-685c-4cab-8b7f-5dbec9767cff",
   "metadata": {},
   "outputs": [],
   "source": []
  }
 ],
 "metadata": {
  "kernelspec": {
   "display_name": "Python 3 (ipykernel)",
   "language": "python",
   "name": "python3"
  },
  "language_info": {
   "codemirror_mode": {
    "name": "ipython",
    "version": 3
   },
   "file_extension": ".py",
   "mimetype": "text/x-python",
   "name": "python",
   "nbconvert_exporter": "python",
   "pygments_lexer": "ipython3",
   "version": "3.12.3"
  }
 },
 "nbformat": 4,
 "nbformat_minor": 5
}
